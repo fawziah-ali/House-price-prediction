{
  "cells": [
    {
      "cell_type": "markdown",
      "metadata": {
        "id": "Cs21O4aelKjA"
      },
      "source": [
        "---\n",
        "![kku-logo.svg](attachment:kku-logo.svg)\n",
        "\n",
        "<div align=\"center\">\n",
        "    \n",
        "# Department of Information system\n",
        "## College of Computer science, King Khalid University\n",
        "## Abha, Kingdom of Saudi Arabia\n",
        "## Academic Year 2022-2023 Semester 2\n",
        "### Machine Learning Assignment 2 part 1\n",
        "</div>\n",
        "\n",
        "---"
      ]
    },
    {
      "cell_type": "markdown",
      "metadata": {
        "id": "z2j9NXq4lKjI"
      },
      "source": [
        "# Regression"
      ]
    },
    {
      "cell_type": "markdown",
      "metadata": {
        "id": "mfNwUVTzlKjJ"
      },
      "source": [
        "### Importing libraries & data"
      ]
    },
    {
      "cell_type": "code",
      "execution_count": null,
      "metadata": {
        "id": "56rGRKp4lKjK"
      },
      "outputs": [],
      "source": [
        "import numpy as np\n",
        "import pandas as pd\n",
        "import matplotlib.pyplot as plt\n",
        "import seaborn as sns\n",
        "%matplotlib inline\n",
        "#sns.set()\n",
        "import warnings\n",
        "warnings.filterwarnings('ignore')\n",
        "\n"
      ]
    },
    {
      "cell_type": "code",
      "execution_count": null,
      "metadata": {
        "id": "j0McD4yIlKjN"
      },
      "outputs": [],
      "source": [
        "df = pd.read_csv('House price prediction.csv')"
      ]
    },
    {
      "cell_type": "code",
      "execution_count": null,
      "metadata": {
        "id": "Y2DTM1RxlKjO",
        "outputId": "2a939f7a-fce5-4472-ea6c-29029402764b"
      },
      "outputs": [
        {
          "data": {
            "text/html": [
              "<div>\n",
              "<style scoped>\n",
              "    .dataframe tbody tr th:only-of-type {\n",
              "        vertical-align: middle;\n",
              "    }\n",
              "\n",
              "    .dataframe tbody tr th {\n",
              "        vertical-align: top;\n",
              "    }\n",
              "\n",
              "    .dataframe thead th {\n",
              "        text-align: right;\n",
              "    }\n",
              "</style>\n",
              "<table border=\"1\" class=\"dataframe\">\n",
              "  <thead>\n",
              "    <tr style=\"text-align: right;\">\n",
              "      <th></th>\n",
              "      <th>date</th>\n",
              "      <th>price</th>\n",
              "      <th>bedrooms</th>\n",
              "      <th>bathrooms</th>\n",
              "      <th>sqft_living</th>\n",
              "      <th>sqft_lot</th>\n",
              "      <th>floors</th>\n",
              "      <th>waterfront</th>\n",
              "      <th>view</th>\n",
              "      <th>condition</th>\n",
              "      <th>sqft_above</th>\n",
              "      <th>sqft_basement</th>\n",
              "      <th>yr_built</th>\n",
              "      <th>yr_renovated</th>\n",
              "      <th>street</th>\n",
              "      <th>city</th>\n",
              "      <th>statezip</th>\n",
              "      <th>country</th>\n",
              "    </tr>\n",
              "  </thead>\n",
              "  <tbody>\n",
              "    <tr>\n",
              "      <th>0</th>\n",
              "      <td>2014-05-02 00:00:00</td>\n",
              "      <td>313000.0</td>\n",
              "      <td>3.0</td>\n",
              "      <td>1.50</td>\n",
              "      <td>1340</td>\n",
              "      <td>7912</td>\n",
              "      <td>1.5</td>\n",
              "      <td>0</td>\n",
              "      <td>0</td>\n",
              "      <td>3</td>\n",
              "      <td>1340</td>\n",
              "      <td>0</td>\n",
              "      <td>1955</td>\n",
              "      <td>2005</td>\n",
              "      <td>18810 Densmore Ave N</td>\n",
              "      <td>Shoreline</td>\n",
              "      <td>WA 98133</td>\n",
              "      <td>USA</td>\n",
              "    </tr>\n",
              "    <tr>\n",
              "      <th>1</th>\n",
              "      <td>2014-05-02 00:00:00</td>\n",
              "      <td>2384000.0</td>\n",
              "      <td>5.0</td>\n",
              "      <td>2.50</td>\n",
              "      <td>3650</td>\n",
              "      <td>9050</td>\n",
              "      <td>2.0</td>\n",
              "      <td>0</td>\n",
              "      <td>4</td>\n",
              "      <td>5</td>\n",
              "      <td>3370</td>\n",
              "      <td>280</td>\n",
              "      <td>1921</td>\n",
              "      <td>0</td>\n",
              "      <td>709 W Blaine St</td>\n",
              "      <td>Seattle</td>\n",
              "      <td>WA 98119</td>\n",
              "      <td>USA</td>\n",
              "    </tr>\n",
              "    <tr>\n",
              "      <th>2</th>\n",
              "      <td>2014-05-02 00:00:00</td>\n",
              "      <td>342000.0</td>\n",
              "      <td>3.0</td>\n",
              "      <td>2.00</td>\n",
              "      <td>1930</td>\n",
              "      <td>11947</td>\n",
              "      <td>1.0</td>\n",
              "      <td>0</td>\n",
              "      <td>0</td>\n",
              "      <td>4</td>\n",
              "      <td>1930</td>\n",
              "      <td>0</td>\n",
              "      <td>1966</td>\n",
              "      <td>0</td>\n",
              "      <td>26206-26214 143rd Ave SE</td>\n",
              "      <td>Kent</td>\n",
              "      <td>WA 98042</td>\n",
              "      <td>USA</td>\n",
              "    </tr>\n",
              "    <tr>\n",
              "      <th>3</th>\n",
              "      <td>2014-05-02 00:00:00</td>\n",
              "      <td>420000.0</td>\n",
              "      <td>3.0</td>\n",
              "      <td>2.25</td>\n",
              "      <td>2000</td>\n",
              "      <td>8030</td>\n",
              "      <td>1.0</td>\n",
              "      <td>0</td>\n",
              "      <td>0</td>\n",
              "      <td>4</td>\n",
              "      <td>1000</td>\n",
              "      <td>1000</td>\n",
              "      <td>1963</td>\n",
              "      <td>0</td>\n",
              "      <td>857 170th Pl NE</td>\n",
              "      <td>Bellevue</td>\n",
              "      <td>WA 98008</td>\n",
              "      <td>USA</td>\n",
              "    </tr>\n",
              "    <tr>\n",
              "      <th>4</th>\n",
              "      <td>2014-05-02 00:00:00</td>\n",
              "      <td>550000.0</td>\n",
              "      <td>4.0</td>\n",
              "      <td>2.50</td>\n",
              "      <td>1940</td>\n",
              "      <td>10500</td>\n",
              "      <td>1.0</td>\n",
              "      <td>0</td>\n",
              "      <td>0</td>\n",
              "      <td>4</td>\n",
              "      <td>1140</td>\n",
              "      <td>800</td>\n",
              "      <td>1976</td>\n",
              "      <td>1992</td>\n",
              "      <td>9105 170th Ave NE</td>\n",
              "      <td>Redmond</td>\n",
              "      <td>WA 98052</td>\n",
              "      <td>USA</td>\n",
              "    </tr>\n",
              "  </tbody>\n",
              "</table>\n",
              "</div>"
            ],
            "text/plain": [
              "                  date      price  bedrooms  bathrooms  sqft_living  sqft_lot  \\\n",
              "0  2014-05-02 00:00:00   313000.0       3.0       1.50         1340      7912   \n",
              "1  2014-05-02 00:00:00  2384000.0       5.0       2.50         3650      9050   \n",
              "2  2014-05-02 00:00:00   342000.0       3.0       2.00         1930     11947   \n",
              "3  2014-05-02 00:00:00   420000.0       3.0       2.25         2000      8030   \n",
              "4  2014-05-02 00:00:00   550000.0       4.0       2.50         1940     10500   \n",
              "\n",
              "   floors  waterfront  view  condition  sqft_above  sqft_basement  yr_built  \\\n",
              "0     1.5           0     0          3        1340              0      1955   \n",
              "1     2.0           0     4          5        3370            280      1921   \n",
              "2     1.0           0     0          4        1930              0      1966   \n",
              "3     1.0           0     0          4        1000           1000      1963   \n",
              "4     1.0           0     0          4        1140            800      1976   \n",
              "\n",
              "   yr_renovated                    street       city  statezip country  \n",
              "0          2005      18810 Densmore Ave N  Shoreline  WA 98133     USA  \n",
              "1             0           709 W Blaine St    Seattle  WA 98119     USA  \n",
              "2             0  26206-26214 143rd Ave SE       Kent  WA 98042     USA  \n",
              "3             0           857 170th Pl NE   Bellevue  WA 98008     USA  \n",
              "4          1992         9105 170th Ave NE    Redmond  WA 98052     USA  "
            ]
          },
          "execution_count": 3,
          "metadata": {},
          "output_type": "execute_result"
        }
      ],
      "source": [
        "df.head()"
      ]
    },
    {
      "cell_type": "code",
      "execution_count": null,
      "metadata": {
        "id": "kaD8BDr8lKjQ",
        "outputId": "00a9cced-b429-4289-86fb-79772d846820"
      },
      "outputs": [
        {
          "name": "stdout",
          "output_type": "stream",
          "text": [
            "number of rows =  4600\n",
            "number of columns =  18\n"
          ]
        }
      ],
      "source": [
        "#see how many rows and columns\n",
        "rows = len(df.axes[0])\n",
        "col = len(df.axes[1])\n",
        "print(\"number of rows = \",rows)\n",
        "print(\"number of columns = \",col)\n"
      ]
    },
    {
      "cell_type": "code",
      "execution_count": null,
      "metadata": {
        "id": "pC-DqyXqlKjR",
        "outputId": "efce451c-407f-4fb9-cd43-16a4187b640a"
      },
      "outputs": [
        {
          "name": "stdout",
          "output_type": "stream",
          "text": [
            "<class 'pandas.core.frame.DataFrame'>\n",
            "RangeIndex: 4600 entries, 0 to 4599\n",
            "Data columns (total 18 columns):\n",
            " #   Column         Non-Null Count  Dtype  \n",
            "---  ------         --------------  -----  \n",
            " 0   date           4600 non-null   object \n",
            " 1   price          4600 non-null   float64\n",
            " 2   bedrooms       4600 non-null   float64\n",
            " 3   bathrooms      4600 non-null   float64\n",
            " 4   sqft_living    4600 non-null   int64  \n",
            " 5   sqft_lot       4600 non-null   int64  \n",
            " 6   floors         4600 non-null   float64\n",
            " 7   waterfront     4600 non-null   int64  \n",
            " 8   view           4600 non-null   int64  \n",
            " 9   condition      4600 non-null   int64  \n",
            " 10  sqft_above     4600 non-null   int64  \n",
            " 11  sqft_basement  4600 non-null   int64  \n",
            " 12  yr_built       4600 non-null   int64  \n",
            " 13  yr_renovated   4600 non-null   int64  \n",
            " 14  street         4600 non-null   object \n",
            " 15  city           4600 non-null   object \n",
            " 16  statezip       4600 non-null   object \n",
            " 17  country        4600 non-null   object \n",
            "dtypes: float64(4), int64(9), object(5)\n",
            "memory usage: 647.0+ KB\n"
          ]
        }
      ],
      "source": [
        "# information about the DataFrame\n",
        "df.info()"
      ]
    },
    {
      "cell_type": "markdown",
      "metadata": {
        "id": "r6Ese9bJlKjS"
      },
      "source": [
        "### For each continuous kindly visualize the univariate distribution. Visualize the distribution of the target. Have you found something that need to be treated?"
      ]
    },
    {
      "cell_type": "code",
      "execution_count": null,
      "metadata": {
        "id": "Rsr33kHqlKjU",
        "outputId": "5d893061-4f8a-48e6-9c02-85ff70a8456a"
      },
      "outputs": [
        {
          "data": {
            "image/png": "[encoded data removed]",
            "text/plain": [
              "<Figure size 720x432 with 8 Axes>"
            ]
          },
          "metadata": {
            "needs_background": "light"
          },
          "output_type": "display_data"
        }
      ],
      "source": [
        "#plot continuous variables using seborn\n",
        "plt.figure(figsize=(10,6))\n",
        "ax1 = plt.subplot(2,4,1)\n",
        "sns.histplot(data=df, x='price', ax=ax1)\n",
        "ax2 = plt.subplot(2,4,2)\n",
        "sns.histplot(data=df, x='bedrooms', ax=ax2)\n",
        "ax3 = plt.subplot(2,4,3)\n",
        "sns.histplot(data=df, x='bathrooms', ax=ax3)\n",
        "ax4 = plt.subplot(2,4,4)\n",
        "sns.histplot(data=df, x='sqft_living', ax=ax4)\n",
        "ax5 = plt.subplot(2,4,5)\n",
        "sns.histplot(data=df, x='sqft_lot', ax=ax5)\n",
        "ax6 = plt.subplot(2,4,6)\n",
        "sns.histplot(data=df, x='floors', ax=ax6)\n",
        "ax7 = plt.subplot(2,4,7)\n",
        "sns.histplot(data=df, x='sqft_above', ax=ax7)\n",
        "ax8 = plt.subplot(2,4,8)\n",
        "sns.histplot(data=df, x='sqft_basement', ax=ax8)\n",
        "plt.tight_layout()"
      ]
    },
    {
      "cell_type": "markdown",
      "metadata": {
        "id": "DOj-cGbIlKjW"
      },
      "source": [
        "#### The target featuer price and another featuers need to treatment because are skewed  "
      ]
    },
    {
      "cell_type": "code",
      "execution_count": null,
      "metadata": {
        "id": "v9MmPGL3lKjW",
        "outputId": "7d19cb82-b387-4ec3-92e2-bd5183e9b3e2"
      },
      "outputs": [
        {
          "data": {
            "text/plain": [
              "array([0, 1], dtype=int64)"
            ]
          },
          "execution_count": 6,
          "metadata": {},
          "output_type": "execute_result"
        }
      ],
      "source": [
        "# I found some features need to change the type\n",
        "# waterfront is binary Categorical Variables\n",
        "df['waterfront'].unique()"
      ]
    },
    {
      "cell_type": "code",
      "execution_count": null,
      "metadata": {
        "id": "FvOeLtaflKjX",
        "outputId": "2f6eb31d-84ad-4ba4-c330-2cfc895bc201"
      },
      "outputs": [
        {
          "data": {
            "text/plain": [
              "array([0, 4, 1, 2, 3], dtype=int64)"
            ]
          },
          "execution_count": 7,
          "metadata": {},
          "output_type": "execute_result"
        }
      ],
      "source": [
        "# view is Ordinal Categorical Variables\n",
        "df['view'].unique()"
      ]
    },
    {
      "cell_type": "code",
      "execution_count": null,
      "metadata": {
        "id": "Hk17FEfPlKjY"
      },
      "outputs": [],
      "source": [
        "#convet waterfront and view to object\n",
        "df['waterfront'] = df['waterfront'].astype('object')\n",
        "df['view'] = df['view'].astype('object')"
      ]
    },
    {
      "cell_type": "markdown",
      "metadata": {
        "id": "MYkr7VcGlKjZ"
      },
      "source": [
        "### Using 2d scatter plot, plot the dependency of the target on each continuous feature."
      ]
    },
    {
      "cell_type": "code",
      "execution_count": null,
      "metadata": {
        "id": "NHnU7zyilKjZ",
        "outputId": "ade3c3cf-2342-4976-c564-5f8af7d58048"
      },
      "outputs": [
        {
          "data": {
            "image/png": "[encoded data removed]",
            "text/plain": [
              "<Figure size 720x360 with 7 Axes>"
            ]
          },
          "metadata": {
            "needs_background": "light"
          },
          "output_type": "display_data"
        }
      ],
      "source": [
        "# plot continuous with target price\n",
        "plt.figure(figsize=(10,5))\n",
        "ax1 = plt.subplot(2,4,1)\n",
        "sns.scatterplot(data=df, x=\"bedrooms\", y=\"price\",ax=ax1)\n",
        "ax2 = plt.subplot(2,4,2)\n",
        "sns.scatterplot(data=df, x=\"bathrooms\", y=\"price\",ax=ax2)\n",
        "ax3 = plt.subplot(2,4,3)\n",
        "sns.scatterplot(data=df, x=\"sqft_living\", y=\"price\",ax=ax3)\n",
        "ax4 = plt.subplot(2,4,4)\n",
        "sns.scatterplot(data=df, x=\"sqft_lot\", y=\"price\",ax=ax4)\n",
        "ax5 = plt.subplot(2,4,5)\n",
        "sns.scatterplot(data=df, x=\"floors\", y=\"price\",ax=ax5)\n",
        "ax6 = plt.subplot(2,4,6)\n",
        "sns.scatterplot(data=df, x=\"sqft_above\", y=\"price\",ax=ax6)\n",
        "ax7 = plt.subplot(2,4,7)\n",
        "sns.scatterplot(data=df, x=\"sqft_basement\", y=\"price\",ax=ax7)\n",
        "plt.tight_layout()"
      ]
    },
    {
      "cell_type": "markdown",
      "metadata": {
        "id": "zKn6I_frlKja"
      },
      "source": [
        "### Split data in training and test set. Try don’t use the test-set unless for a final evaluation in 9."
      ]
    },
    {
      "cell_type": "code",
      "execution_count": null,
      "metadata": {
        "id": "l3qbxcEklKja"
      },
      "outputs": [],
      "source": [
        "from sklearn.model_selection import train_test_split"
      ]
    },
    {
      "cell_type": "code",
      "execution_count": null,
      "metadata": {
        "id": "IqhHE26FlKjb",
        "outputId": "dac9c199-df51-4948-ed75-1e58fd10e1e3"
      },
      "outputs": [
        {
          "data": {
            "text/html": [
              "<div>\n",
              "<style scoped>\n",
              "    .dataframe tbody tr th:only-of-type {\n",
              "        vertical-align: middle;\n",
              "    }\n",
              "\n",
              "    .dataframe tbody tr th {\n",
              "        vertical-align: top;\n",
              "    }\n",
              "\n",
              "    .dataframe thead th {\n",
              "        text-align: right;\n",
              "    }\n",
              "</style>\n",
              "<table border=\"1\" class=\"dataframe\">\n",
              "  <thead>\n",
              "    <tr style=\"text-align: right;\">\n",
              "      <th></th>\n",
              "      <th>date</th>\n",
              "      <th>bedrooms</th>\n",
              "      <th>bathrooms</th>\n",
              "      <th>sqft_living</th>\n",
              "      <th>sqft_lot</th>\n",
              "      <th>floors</th>\n",
              "      <th>waterfront</th>\n",
              "      <th>view</th>\n",
              "      <th>condition</th>\n",
              "      <th>sqft_above</th>\n",
              "      <th>sqft_basement</th>\n",
              "      <th>yr_built</th>\n",
              "      <th>yr_renovated</th>\n",
              "      <th>street</th>\n",
              "      <th>city</th>\n",
              "      <th>statezip</th>\n",
              "      <th>country</th>\n",
              "    </tr>\n",
              "  </thead>\n",
              "  <tbody>\n",
              "    <tr>\n",
              "      <th>0</th>\n",
              "      <td>2014-05-02 00:00:00</td>\n",
              "      <td>3.0</td>\n",
              "      <td>1.50</td>\n",
              "      <td>1340</td>\n",
              "      <td>7912</td>\n",
              "      <td>1.5</td>\n",
              "      <td>0</td>\n",
              "      <td>0</td>\n",
              "      <td>3</td>\n",
              "      <td>1340</td>\n",
              "      <td>0</td>\n",
              "      <td>1955</td>\n",
              "      <td>2005</td>\n",
              "      <td>18810 Densmore Ave N</td>\n",
              "      <td>Shoreline</td>\n",
              "      <td>WA 98133</td>\n",
              "      <td>USA</td>\n",
              "    </tr>\n",
              "    <tr>\n",
              "      <th>1</th>\n",
              "      <td>2014-05-02 00:00:00</td>\n",
              "      <td>5.0</td>\n",
              "      <td>2.50</td>\n",
              "      <td>3650</td>\n",
              "      <td>9050</td>\n",
              "      <td>2.0</td>\n",
              "      <td>0</td>\n",
              "      <td>4</td>\n",
              "      <td>5</td>\n",
              "      <td>3370</td>\n",
              "      <td>280</td>\n",
              "      <td>1921</td>\n",
              "      <td>0</td>\n",
              "      <td>709 W Blaine St</td>\n",
              "      <td>Seattle</td>\n",
              "      <td>WA 98119</td>\n",
              "      <td>USA</td>\n",
              "    </tr>\n",
              "    <tr>\n",
              "      <th>2</th>\n",
              "      <td>2014-05-02 00:00:00</td>\n",
              "      <td>3.0</td>\n",
              "      <td>2.00</td>\n",
              "      <td>1930</td>\n",
              "      <td>11947</td>\n",
              "      <td>1.0</td>\n",
              "      <td>0</td>\n",
              "      <td>0</td>\n",
              "      <td>4</td>\n",
              "      <td>1930</td>\n",
              "      <td>0</td>\n",
              "      <td>1966</td>\n",
              "      <td>0</td>\n",
              "      <td>26206-26214 143rd Ave SE</td>\n",
              "      <td>Kent</td>\n",
              "      <td>WA 98042</td>\n",
              "      <td>USA</td>\n",
              "    </tr>\n",
              "    <tr>\n",
              "      <th>3</th>\n",
              "      <td>2014-05-02 00:00:00</td>\n",
              "      <td>3.0</td>\n",
              "      <td>2.25</td>\n",
              "      <td>2000</td>\n",
              "      <td>8030</td>\n",
              "      <td>1.0</td>\n",
              "      <td>0</td>\n",
              "      <td>0</td>\n",
              "      <td>4</td>\n",
              "      <td>1000</td>\n",
              "      <td>1000</td>\n",
              "      <td>1963</td>\n",
              "      <td>0</td>\n",
              "      <td>857 170th Pl NE</td>\n",
              "      <td>Bellevue</td>\n",
              "      <td>WA 98008</td>\n",
              "      <td>USA</td>\n",
              "    </tr>\n",
              "    <tr>\n",
              "      <th>4</th>\n",
              "      <td>2014-05-02 00:00:00</td>\n",
              "      <td>4.0</td>\n",
              "      <td>2.50</td>\n",
              "      <td>1940</td>\n",
              "      <td>10500</td>\n",
              "      <td>1.0</td>\n",
              "      <td>0</td>\n",
              "      <td>0</td>\n",
              "      <td>4</td>\n",
              "      <td>1140</td>\n",
              "      <td>800</td>\n",
              "      <td>1976</td>\n",
              "      <td>1992</td>\n",
              "      <td>9105 170th Ave NE</td>\n",
              "      <td>Redmond</td>\n",
              "      <td>WA 98052</td>\n",
              "      <td>USA</td>\n",
              "    </tr>\n",
              "    <tr>\n",
              "      <th>...</th>\n",
              "      <td>...</td>\n",
              "      <td>...</td>\n",
              "      <td>...</td>\n",
              "      <td>...</td>\n",
              "      <td>...</td>\n",
              "      <td>...</td>\n",
              "      <td>...</td>\n",
              "      <td>...</td>\n",
              "      <td>...</td>\n",
              "      <td>...</td>\n",
              "      <td>...</td>\n",
              "      <td>...</td>\n",
              "      <td>...</td>\n",
              "      <td>...</td>\n",
              "      <td>...</td>\n",
              "      <td>...</td>\n",
              "      <td>...</td>\n",
              "    </tr>\n",
              "    <tr>\n",
              "      <th>4595</th>\n",
              "      <td>2014-07-09 00:00:00</td>\n",
              "      <td>3.0</td>\n",
              "      <td>1.75</td>\n",
              "      <td>1510</td>\n",
              "      <td>6360</td>\n",
              "      <td>1.0</td>\n",
              "      <td>0</td>\n",
              "      <td>0</td>\n",
              "      <td>4</td>\n",
              "      <td>1510</td>\n",
              "      <td>0</td>\n",
              "      <td>1954</td>\n",
              "      <td>1979</td>\n",
              "      <td>501 N 143rd St</td>\n",
              "      <td>Seattle</td>\n",
              "      <td>WA 98133</td>\n",
              "      <td>USA</td>\n",
              "    </tr>\n",
              "    <tr>\n",
              "      <th>4596</th>\n",
              "      <td>2014-07-09 00:00:00</td>\n",
              "      <td>3.0</td>\n",
              "      <td>2.50</td>\n",
              "      <td>1460</td>\n",
              "      <td>7573</td>\n",
              "      <td>2.0</td>\n",
              "      <td>0</td>\n",
              "      <td>0</td>\n",
              "      <td>3</td>\n",
              "      <td>1460</td>\n",
              "      <td>0</td>\n",
              "      <td>1983</td>\n",
              "      <td>2009</td>\n",
              "      <td>14855 SE 10th Pl</td>\n",
              "      <td>Bellevue</td>\n",
              "      <td>WA 98007</td>\n",
              "      <td>USA</td>\n",
              "    </tr>\n",
              "    <tr>\n",
              "      <th>4597</th>\n",
              "      <td>2014-07-09 00:00:00</td>\n",
              "      <td>3.0</td>\n",
              "      <td>2.50</td>\n",
              "      <td>3010</td>\n",
              "      <td>7014</td>\n",
              "      <td>2.0</td>\n",
              "      <td>0</td>\n",
              "      <td>0</td>\n",
              "      <td>3</td>\n",
              "      <td>3010</td>\n",
              "      <td>0</td>\n",
              "      <td>2009</td>\n",
              "      <td>0</td>\n",
              "      <td>759 Ilwaco Pl NE</td>\n",
              "      <td>Renton</td>\n",
              "      <td>WA 98059</td>\n",
              "      <td>USA</td>\n",
              "    </tr>\n",
              "    <tr>\n",
              "      <th>4598</th>\n",
              "      <td>2014-07-10 00:00:00</td>\n",
              "      <td>4.0</td>\n",
              "      <td>2.00</td>\n",
              "      <td>2090</td>\n",
              "      <td>6630</td>\n",
              "      <td>1.0</td>\n",
              "      <td>0</td>\n",
              "      <td>0</td>\n",
              "      <td>3</td>\n",
              "      <td>1070</td>\n",
              "      <td>1020</td>\n",
              "      <td>1974</td>\n",
              "      <td>0</td>\n",
              "      <td>5148 S Creston St</td>\n",
              "      <td>Seattle</td>\n",
              "      <td>WA 98178</td>\n",
              "      <td>USA</td>\n",
              "    </tr>\n",
              "    <tr>\n",
              "      <th>4599</th>\n",
              "      <td>2014-07-10 00:00:00</td>\n",
              "      <td>3.0</td>\n",
              "      <td>2.50</td>\n",
              "      <td>1490</td>\n",
              "      <td>8102</td>\n",
              "      <td>2.0</td>\n",
              "      <td>0</td>\n",
              "      <td>0</td>\n",
              "      <td>4</td>\n",
              "      <td>1490</td>\n",
              "      <td>0</td>\n",
              "      <td>1990</td>\n",
              "      <td>0</td>\n",
              "      <td>18717 SE 258th St</td>\n",
              "      <td>Covington</td>\n",
              "      <td>WA 98042</td>\n",
              "      <td>USA</td>\n",
              "    </tr>\n",
              "  </tbody>\n",
              "</table>\n",
              "<p>4600 rows × 17 columns</p>\n",
              "</div>"
            ],
            "text/plain": [
              "                     date  bedrooms  bathrooms  sqft_living  sqft_lot  floors  \\\n",
              "0     2014-05-02 00:00:00       3.0       1.50         1340      7912     1.5   \n",
              "1     2014-05-02 00:00:00       5.0       2.50         3650      9050     2.0   \n",
              "2     2014-05-02 00:00:00       3.0       2.00         1930     11947     1.0   \n",
              "3     2014-05-02 00:00:00       3.0       2.25         2000      8030     1.0   \n",
              "4     2014-05-02 00:00:00       4.0       2.50         1940     10500     1.0   \n",
              "...                   ...       ...        ...          ...       ...     ...   \n",
              "4595  2014-07-09 00:00:00       3.0       1.75         1510      6360     1.0   \n",
              "4596  2014-07-09 00:00:00       3.0       2.50         1460      7573     2.0   \n",
              "4597  2014-07-09 00:00:00       3.0       2.50         3010      7014     2.0   \n",
              "4598  2014-07-10 00:00:00       4.0       2.00         2090      6630     1.0   \n",
              "4599  2014-07-10 00:00:00       3.0       2.50         1490      8102     2.0   \n",
              "\n",
              "     waterfront view  condition  sqft_above  sqft_basement  yr_built  \\\n",
              "0             0    0          3        1340              0      1955   \n",
              "1             0    4          5        3370            280      1921   \n",
              "2             0    0          4        1930              0      1966   \n",
              "3             0    0          4        1000           1000      1963   \n",
              "4             0    0          4        1140            800      1976   \n",
              "...         ...  ...        ...         ...            ...       ...   \n",
              "4595          0    0          4        1510              0      1954   \n",
              "4596          0    0          3        1460              0      1983   \n",
              "4597          0    0          3        3010              0      2009   \n",
              "4598          0    0          3        1070           1020      1974   \n",
              "4599          0    0          4        1490              0      1990   \n",
              "\n",
              "      yr_renovated                    street       city  statezip country  \n",
              "0             2005      18810 Densmore Ave N  Shoreline  WA 98133     USA  \n",
              "1                0           709 W Blaine St    Seattle  WA 98119     USA  \n",
              "2                0  26206-26214 143rd Ave SE       Kent  WA 98042     USA  \n",
              "3                0           857 170th Pl NE   Bellevue  WA 98008     USA  \n",
              "4             1992         9105 170th Ave NE    Redmond  WA 98052     USA  \n",
              "...            ...                       ...        ...       ...     ...  \n",
              "4595          1979            501 N 143rd St    Seattle  WA 98133     USA  \n",
              "4596          2009          14855 SE 10th Pl   Bellevue  WA 98007     USA  \n",
              "4597             0          759 Ilwaco Pl NE     Renton  WA 98059     USA  \n",
              "4598             0         5148 S Creston St    Seattle  WA 98178     USA  \n",
              "4599             0         18717 SE 258th St  Covington  WA 98042     USA  \n",
              "\n",
              "[4600 rows x 17 columns]"
            ]
          },
          "execution_count": 10,
          "metadata": {},
          "output_type": "execute_result"
        }
      ],
      "source": [
        "# drop the target price\n",
        "X = df.drop('price',axis=1)\n",
        "X"
      ]
    },
    {
      "cell_type": "code",
      "execution_count": null,
      "metadata": {
        "id": "laCwGybdlKjb",
        "outputId": "13cb8c66-cad7-47c4-bd87-07f82b5c1883"
      },
      "outputs": [
        {
          "data": {
            "text/plain": [
              "0       3.130000e+05\n",
              "1       2.384000e+06\n",
              "2       3.420000e+05\n",
              "3       4.200000e+05\n",
              "4       5.500000e+05\n",
              "            ...     \n",
              "4595    3.081667e+05\n",
              "4596    5.343333e+05\n",
              "4597    4.169042e+05\n",
              "4598    2.034000e+05\n",
              "4599    2.206000e+05\n",
              "Name: price, Length: 4600, dtype: float64"
            ]
          },
          "execution_count": 12,
          "metadata": {},
          "output_type": "execute_result"
        }
      ],
      "source": [
        "# assign target to y\n",
        "y = df['price']\n",
        "y"
      ]
    },
    {
      "cell_type": "code",
      "execution_count": null,
      "metadata": {
        "id": "3TM-u60QlKjc"
      },
      "outputs": [],
      "source": [
        "# split the data\n",
        "X_train, X_test, y_train, y_test = train_test_split(X, y, test_size=1/3, random_state=0)"
      ]
    },
    {
      "cell_type": "markdown",
      "metadata": {
        "id": "7sga3QHzlKjc"
      },
      "source": [
        "### Try cross-validate a Linear Regression model using just this variable using one-hot-encoded for each categorical variable."
      ]
    },
    {
      "cell_type": "code",
      "execution_count": null,
      "metadata": {
        "id": "Sn6Ri5P0lKjc"
      },
      "outputs": [],
      "source": [
        "# import the selector to select the categorical columns\n",
        "from sklearn.compose import make_column_selector as selector"
      ]
    },
    {
      "cell_type": "code",
      "execution_count": null,
      "metadata": {
        "id": "iY7TYd-7lKjd",
        "outputId": "610256eb-9d90-40cd-b3a6-bb9a921f1391"
      },
      "outputs": [
        {
          "data": {
            "text/plain": [
              "['date', 'waterfront', 'view', 'street', 'city', 'statezip', 'country']"
            ]
          },
          "execution_count": 15,
          "metadata": {},
          "output_type": "execute_result"
        }
      ],
      "source": [
        "# process to select categorical columns\n",
        "categorical_columns_selector = selector(dtype_include=object)\n",
        "categorical_columns = categorical_columns_selector(X_train)\n",
        "categorical_columns"
      ]
    },
    {
      "cell_type": "code",
      "execution_count": null,
      "metadata": {
        "id": "f7JlaklOlKjd"
      },
      "outputs": [],
      "source": [
        "# import the libray need to deal with categorical variable\n",
        "from sklearn.preprocessing import OneHotEncoder, StandardScaler\n",
        "from sklearn.compose import ColumnTransformer\n",
        "from sklearn.compose import make_column_transformer\n",
        "from sklearn.impute import SimpleImputer\n",
        "\n",
        "# one hot encoder processor\n",
        "categorical_preprocessor = OneHotEncoder(handle_unknown=\"ignore\")\n",
        "\n",
        "# fit_transform or transform. The output of this step is a set of categorical variable.\n",
        "preprocessor = ColumnTransformer([\n",
        "    ('one-hot-encoder', categorical_preprocessor, categorical_columns)])"
      ]
    },
    {
      "cell_type": "code",
      "execution_count": null,
      "metadata": {
        "id": "y0jJfgInlKje"
      },
      "outputs": [],
      "source": [
        "# import LinearRegression and make_pipeline\n",
        "from sklearn.linear_model import LinearRegression\n",
        "from sklearn.pipeline import make_pipeline\n",
        "\n",
        "# Pipeline use to combine the ColumnTransformer and LinearRegression\n",
        "# pipeline is to assemble several steps that can be cross-validated together\n",
        "model = make_pipeline(preprocessor, LinearRegression())\n"
      ]
    },
    {
      "cell_type": "code",
      "execution_count": null,
      "metadata": {
        "id": "22dxgHX0lKje",
        "outputId": "cef4c9d4-51c7-48f4-ebf9-f057907242f4"
      },
      "outputs": [
        {
          "data": {
            "text/plain": [
              "array([0.42606103, 0.38628332, 0.17855583, 0.40536251, 0.41684151])"
            ]
          },
          "execution_count": 18,
          "metadata": {},
          "output_type": "execute_result"
        }
      ],
      "source": [
        "# import cross_val_score\n",
        "from sklearn.model_selection import cross_val_score\n",
        "\n",
        "# result score of 5 folds\n",
        "cv_results = cross_val_score (model, X_train, y_train, cv=5 , error_score=\"raise\")\n",
        "cv_results"
      ]
    },
    {
      "cell_type": "markdown",
      "metadata": {
        "id": "mwGfkHjvlKje"
      },
      "source": [
        "### What is the relationship of the categorical variables that provide the best R^2 value with the target (Better to visualize)."
      ]
    },
    {
      "cell_type": "code",
      "execution_count": null,
      "metadata": {
        "id": "ecc-sACFlKje"
      },
      "outputs": [],
      "source": [
        "# build function take list of variables with list of R^2 of each variables\n",
        "# Return a dictionary with variable name as key, corresponding R^2 as value.\n",
        "\n",
        "def R(variables:list):\n",
        "    R2_score = {}\n",
        "    for i in variables:\n",
        "        #create one-hot encoding\n",
        "        cat_variables = X_train[i]\n",
        "        X_train_encod = pd.get_dummies(cat_variables)\n",
        "        #fit linear regression\n",
        "        reg = LinearRegression().fit(X_train_encod, y_train)\n",
        "        #cross-validation to caculate R^2\n",
        "        train_scores = cross_val_score(reg, X_train_encod, y_train, cv=10 ,scoring='r2')\n",
        "        mean_R2 = np.mean(train_scores)\n",
        "        R2_score[i] = mean_R2\n",
        "    return R2_score"
      ]
    },
    {
      "cell_type": "code",
      "execution_count": null,
      "metadata": {
        "id": "FHDr_zhulKjf"
      },
      "outputs": [],
      "source": [
        "# we want to convert categorical variables to list\n",
        "# take all categorical variables from  data\n",
        "categorical = df.dtypes == object\n",
        "\n",
        "#return the contents of column as list\n",
        "col  = df.columns.tolist()\n",
        "\n",
        "# convert categorical variables to list\n",
        "cat_to_list = categorical.tolist()\n",
        "\n",
        "# if categorical variables take the contents form the column and add to categorical_list\n",
        "categorical_list = []\n",
        "i=0\n",
        "for item in cat_to_list:\n",
        "    if item == True:\n",
        "        categorical_list.append(col[i])\n",
        "    i+=1"
      ]
    },
    {
      "cell_type": "code",
      "execution_count": null,
      "metadata": {
        "id": "NpHT9wdvlKjf",
        "outputId": "ea27c30e-6539-43ac-847c-019d9fc6b736"
      },
      "outputs": [
        {
          "data": {
            "text/plain": [
              "{'date': -3.406416684267697e+23,\n",
              " 'waterfront': 0.013098613792509461,\n",
              " 'view': 0.11993801613920288,\n",
              " 'street': -2.5286145659857577e+26,\n",
              " 'city': -2.8455394622179114e+23,\n",
              " 'statezip': -1.1056927345163043e+24,\n",
              " 'country': -0.002994772536477974}"
            ]
          },
          "execution_count": 345,
          "metadata": {},
          "output_type": "execute_result"
        }
      ],
      "source": [
        "# pass the categorical_list to function to calculate the R^2\n",
        "R2_score = R(categorical_list)\n",
        "# show the result of R^2 for each categorical variable\n",
        "R2_score"
      ]
    },
    {
      "cell_type": "code",
      "execution_count": null,
      "metadata": {
        "id": "t6vyXXTmlKjf",
        "outputId": "ef58c095-d9ee-46a1-f0ad-86a02b72f404"
      },
      "outputs": [
        {
          "name": "stdout",
          "output_type": "stream",
          "text": [
            "view 0.11993801613920288\n",
            "waterfront 0.013098613792509461\n",
            "country -0.002994772536477974\n"
          ]
        }
      ],
      "source": [
        "# show the best score for categorical variable by using sorted(iterable, key=key, reverse=reverse) function\n",
        "# stored the R2_score sequence to sort list in best_R ,the sort iterates over the dictionary keys,\n",
        "#using the number of word occurrences as a sort key,True will sort descending\n",
        "best_R = sorted(R2_score, key=R2_score.get, reverse=True)[:3]\n",
        "for i in best_R:\n",
        "    print(i,R2_score[i])"
      ]
    },
    {
      "cell_type": "code",
      "execution_count": null,
      "metadata": {
        "id": "Ohqf-72elKjg",
        "outputId": "9494261a-0909-44ef-dd6a-c481b340ced0"
      },
      "outputs": [
        {
          "data": {
            "image/png": "[encoded data removed]",
            "text/plain": [
              "<Figure size 720x576 with 1 Axes>"
            ]
          },
          "metadata": {
            "needs_background": "light"
          },
          "output_type": "display_data"
        },
        {
          "data": {
            "image/png": "[encoded data removed]",
            "text/plain": [
              "<Figure size 720x576 with 1 Axes>"
            ]
          },
          "metadata": {
            "needs_background": "light"
          },
          "output_type": "display_data"
        },
        {
          "data": {
            "image/png": "[encoded data removed]",
            "text/plain": [
              "<Figure size 720x576 with 1 Axes>"
            ]
          },
          "metadata": {
            "needs_background": "light"
          },
          "output_type": "display_data"
        }
      ],
      "source": [
        "#plot the best three score\n",
        "for i in best_R:\n",
        "    plt.figure(figsize=(10, 8))\n",
        "    sns.barplot(x=df[i], y=df['price'])\n",
        "    plt.title(f'{i} v SalePrice')\n",
        "    plt.show()"
      ]
    },
    {
      "cell_type": "markdown",
      "metadata": {
        "id": "-kKkfXvFlKjg"
      },
      "source": [
        "The price's more effect by the view if view takes more score the price become up and the same thing with waterfront it is an effect, but not much and the result of R show the result negative effect with country"
      ]
    },
    {
      "cell_type": "markdown",
      "metadata": {
        "id": "9bnzU3zPlKjg"
      },
      "source": [
        "### Encode categorical variables using ColumnTransformer and pipeline."
      ]
    },
    {
      "cell_type": "code",
      "execution_count": null,
      "metadata": {
        "id": "jbQXj3MvlKjg"
      },
      "outputs": [],
      "source": [
        "#select categorical variables\n",
        "categorical_features = X_train.select_dtypes('object').columns"
      ]
    },
    {
      "cell_type": "code",
      "execution_count": null,
      "metadata": {
        "id": "Oanll2h-lKjh"
      },
      "outputs": [],
      "source": [
        "# import Pipeline\n",
        "from sklearn.pipeline import Pipeline\n",
        "# pipline contain SimpleImputer and OneHotEncoder to deal categorical variables\n",
        "categorical_transformer = Pipeline(\n",
        "    steps=[(\"imputer\", SimpleImputer(strategy=\"constant\", fill_value=\"missing\")),\n",
        "           (\"onehot\", OneHotEncoder(handle_unknown=\"ignore\"))]\n",
        ")"
      ]
    },
    {
      "cell_type": "code",
      "execution_count": null,
      "metadata": {
        "id": "2ocUogxIlKjh"
      },
      "outputs": [],
      "source": [
        "# fit_transform or transform. The output of this step is a set of categorical variable.\n",
        "\n",
        "col_transformer = ColumnTransformer(\n",
        "    transformers=[\n",
        "        (\"categorical\", categorical_transformer, categorical_features)\n",
        "    ],\n",
        "    remainder='passthrough'\n",
        ")"
      ]
    },
    {
      "cell_type": "markdown",
      "metadata": {
        "id": "urNzX8NklKjh"
      },
      "source": [
        "### For Linear Regression evaluation, use (OLS), Ridge, Lasso and ElasticNet using cross-validation with the default parameters. IS scaling the data (within the pipeline) with StandardScaler effective?"
      ]
    },
    {
      "cell_type": "code",
      "execution_count": null,
      "metadata": {
        "id": "tYQQOegqlKjp"
      },
      "outputs": [],
      "source": [
        "# import the model Ridge, Lasso, ElasticNet\n",
        "from sklearn.linear_model import Ridge, Lasso, ElasticNet"
      ]
    },
    {
      "cell_type": "code",
      "execution_count": null,
      "metadata": {
        "id": "BbmlPLUilKjp"
      },
      "outputs": [],
      "source": [
        "# create Pipeline for each models\n",
        "model1 = Pipeline(\n",
        "    steps=[\n",
        "        (\"preprocessor\", col_transformer),\n",
        "        (\"ols\",LinearRegression())])\n",
        "\n",
        "model2 = Pipeline(\n",
        "    steps=[\n",
        "        (\"preprocessor\", col_transformer),\n",
        "        (\"ridge\",Ridge())])\n",
        "model3 = Pipeline(\n",
        "    steps=[\n",
        "        (\"preprocessor\", col_transformer),\n",
        "        (\"lasso\",Lasso())])\n",
        "model4=  Pipeline(\n",
        "    steps=[\n",
        "        (\"preprocessor\", col_transformer),\n",
        "        (\"elastic\",ElasticNet())])"
      ]
    },
    {
      "cell_type": "code",
      "execution_count": null,
      "metadata": {
        "id": "aY5zhod7lKjp",
        "outputId": "877ad041-9e4f-4315-c245-e4e646cf5fdf"
      },
      "outputs": [
        {
          "name": "stdout",
          "output_type": "stream",
          "text": [
            "Ordinary least squares 0.5539283756581215\n",
            "Ridge 0.5613712909323482\n",
            "Lasso 0.5787376584030407\n",
            "ElasticNet 0.4359317605401607\n"
          ]
        }
      ],
      "source": [
        "# Accuracy mean score for models\n",
        "ols_scores = cross_val_score(model1, X_train, y_train , cv=5 )\n",
        "print(\"Ordinary least squares\",ols_scores.mean())\n",
        "\n",
        "Ridge_scores  = cross_val_score(model2, X_train, y_train , cv=5)\n",
        "print(\"Ridge\",Ridge_scores.mean())\n",
        "\n",
        "Lasso_score = cross_val_score(model3, X_train, y_train , cv=5 )\n",
        "print(\"Lasso\",Lasso_score.mean())\n",
        "\n",
        "ElasticNet_score = cross_val_score(model4, X_train, y_train , cv=5 )\n",
        "print(\"ElasticNet\",ElasticNet_score.mean())\n"
      ]
    },
    {
      "cell_type": "code",
      "execution_count": null,
      "metadata": {
        "id": "lgKp-1qblKjq"
      },
      "outputs": [],
      "source": [
        "# StandardScaler process for numric varabiles\n",
        "# select the numbers varabiles\n",
        "numeric_features = X_train.select_dtypes('number').columns"
      ]
    },
    {
      "cell_type": "code",
      "execution_count": null,
      "metadata": {
        "id": "GXsQavVslKjq"
      },
      "outputs": [],
      "source": [
        "# numric transformer StandardScaler and SimpleImputer\n",
        "numeric_transformer = Pipeline(\n",
        "    steps=[(\"imputer\", SimpleImputer(strategy=\"mean\")),\n",
        "           (\"scaler\", StandardScaler())]\n",
        ")"
      ]
    },
    {
      "cell_type": "code",
      "execution_count": null,
      "metadata": {
        "id": "mO8m9Xp1lKjq"
      },
      "outputs": [],
      "source": [
        "# fit_transform or transform. The output of this step is a set of categorical variable and numric variable\n",
        "\n",
        "col_transformer = ColumnTransformer(\n",
        "    transformers=[\n",
        "        (\"numeric\", numeric_transformer, numeric_features),\n",
        "        (\"categorical\", categorical_transformer, categorical_features)\n",
        "    ],\n",
        "    remainder='passthrough'\n",
        ")"
      ]
    },
    {
      "cell_type": "code",
      "execution_count": null,
      "metadata": {
        "id": "DCKU9DbglKjr"
      },
      "outputs": [],
      "source": [
        "# create Pipeline for each models after StandardScaler\n",
        "\n",
        "model1 = Pipeline(\n",
        "    steps=[\n",
        "        (\"preprocessor\", col_transformer),\n",
        "        (\"ols\",LinearRegression())])\n",
        "\n",
        "model2 = Pipeline(\n",
        "    steps=[\n",
        "        (\"preprocessor\", col_transformer),\n",
        "        (\"ridge\",Ridge())])\n",
        "model3 = Pipeline(\n",
        "    steps=[\n",
        "        (\"preprocessor\", col_transformer),\n",
        "        (\"lasso\",Lasso())])\n",
        "model4=  Pipeline(\n",
        "    steps=[\n",
        "        (\"preprocessor\", col_transformer),\n",
        "        (\"elastic\",ElasticNet())])"
      ]
    },
    {
      "cell_type": "code",
      "execution_count": null,
      "metadata": {
        "id": "3Op7O5kplKjr",
        "outputId": "3123f9aa-3fe6-4b8c-acaa-52fc5d300bb6"
      },
      "outputs": [
        {
          "name": "stdout",
          "output_type": "stream",
          "text": [
            "Ordinary least squares 0.5532843761835176\n",
            "Ridge 0.5614539001697572\n",
            "Lasso 0.5780336732574355\n",
            "ElasticNet 0.4232089802744244\n"
          ]
        }
      ],
      "source": [
        "# Accuracy mean score for models after scaling\n",
        "\n",
        "ols_scores = cross_val_score(model1, X_train, y_train , cv=5)\n",
        "print(\"Ordinary least squares\",ols_scores.mean())\n",
        "\n",
        "Ridge_scores  = cross_val_score(model2, X_train, y_train , cv=5)\n",
        "print(\"Ridge\",Ridge_scores.mean())\n",
        "\n",
        "Lasso_score = cross_val_score(model3, X_train, y_train , cv=5 )\n",
        "print(\"Lasso\",Lasso_score.mean())\n",
        "\n",
        "ElasticNet_score = cross_val_score(model4, X_train, y_train , cv=5 )\n",
        "print(\"ElasticNet\",ElasticNet_score.mean())"
      ]
    },
    {
      "cell_type": "markdown",
      "metadata": {
        "id": "9qoQZqZmlKjr"
      },
      "source": [
        "No, it is not effective. LinearRegression, Ridge, Lasso it is exact not change, but ElasticNet, the score before scaling is better"
      ]
    },
    {
      "cell_type": "markdown",
      "metadata": {
        "id": "y6UVQnHjlKjs"
      },
      "source": [
        "### By Tuning the parameters of the models using GridSearchCV the results might improve. Kindly Approve it?"
      ]
    },
    {
      "cell_type": "code",
      "execution_count": null,
      "metadata": {
        "id": "B09pOByvlKjs"
      },
      "outputs": [],
      "source": [
        "# import the GridSearchCV\n",
        "from sklearn.model_selection import GridSearchCV"
      ]
    },
    {
      "cell_type": "code",
      "execution_count": null,
      "metadata": {
        "id": "GwgbmS0NlKjs"
      },
      "outputs": [],
      "source": [
        "# assign parameters for each model\n",
        "lasso_params = {'lasso__alpha': np.logspace(-3, 0, 13)}\n",
        "ridge_params = {'ridge__alpha':np.logspace(-3, 3, 13)}\n",
        "elastic_params = {\n",
        "    'elastic__alpha': np.logspace(-4, -1, 10),\n",
        "    'elastic__l1_ratio': [0.01, .1, .5, .9, .98, 1]\n",
        "}"
      ]
    },
    {
      "cell_type": "code",
      "execution_count": null,
      "metadata": {
        "id": "Kqaz-tpylKjs",
        "outputId": "afb8d3e1-5b08-48f3-d4f2-8c1ec4b165b3"
      },
      "outputs": [
        {
          "name": "stdout",
          "output_type": "stream",
          "text": [
            "0.13607503904305518\n",
            "{'ridge__alpha': 3.1622776601683795}\n",
            "0.5634388209666572\n"
          ]
        }
      ],
      "source": [
        "#  Tuning the Ridge model by enter different parameter\n",
        "grid_search_ridge = GridSearchCV(model2, ridge_params, cv=5)\n",
        "grid_search_ridge.fit(X_train, y_train)\n",
        "# result of average score\n",
        "print(grid_search_ridge.score(X_test, y_test))\n",
        "# result of best parameter\n",
        "print(grid_search_ridge.best_params_)\n",
        "# result of best score\n",
        "print(grid_search_ridge.best_score_)"
      ]
    },
    {
      "cell_type": "code",
      "execution_count": null,
      "metadata": {
        "id": "78VaXVMYlKjt",
        "outputId": "997e8514-aff6-4421-8996-af5829ab66ce"
      },
      "outputs": [
        {
          "name": "stdout",
          "output_type": "stream",
          "text": [
            "0.13918584166495762\n",
            "{'lasso__alpha': 1.0}\n",
            "0.5780336732574355\n"
          ]
        }
      ],
      "source": [
        "grid_search_lasso = GridSearchCV(model3, lasso_params, cv=5)\n",
        "grid_search_lasso.fit(X_train, y_train)\n",
        "print(grid_search_lasso.score(X_test, y_test))\n",
        "print(grid_search_lasso.best_params_)\n",
        "print(grid_search_lasso.best_score_)"
      ]
    },
    {
      "cell_type": "code",
      "execution_count": null,
      "metadata": {
        "id": "1yZj3fWJlKjt",
        "outputId": "aadba102-bc32-42e6-cc77-7e3606f2cfbe"
      },
      "outputs": [
        {
          "name": "stdout",
          "output_type": "stream",
          "text": [
            "0.13570642678515155\n",
            "{'elastic__alpha': 0.1, 'elastic__l1_ratio': 0.98}\n",
            "0.5639387588208404\n"
          ]
        }
      ],
      "source": [
        "grid_search_elastic = GridSearchCV(model4, elastic_params, cv=5)\n",
        "grid_search_elastic.fit(X_train, y_train)\n",
        "print(grid_search_elastic.score(X_test, y_test))\n",
        "print(grid_search_elastic.best_params_)\n",
        "print(grid_search_elastic.best_score_)"
      ]
    },
    {
      "cell_type": "markdown",
      "metadata": {
        "id": "Mmu4MY3XlKjt"
      },
      "source": [
        "The result is slightly improved in Ridge and Lasso, but it improved  a lot in ElastiNet before tuning the result is 0.423 after\n",
        "tuning become 0.563"
      ]
    },
    {
      "cell_type": "markdown",
      "metadata": {
        "id": "pEyccTE7lKju"
      },
      "source": [
        "### By visualizing the coefficients of the resulting models. Are they aligned with the rank of features importance?"
      ]
    },
    {
      "cell_type": "code",
      "execution_count": null,
      "metadata": {
        "id": "_O7pyUtMlKju"
      },
      "outputs": [],
      "source": [
        "# categorical2 contain categrical variables in x train\n",
        "categorical2 = X_train.dtypes == object"
      ]
    },
    {
      "cell_type": "code",
      "execution_count": null,
      "metadata": {
        "id": "YXYBrcr6lKju"
      },
      "outputs": [],
      "source": [
        "# nummric and categrical transformer\n",
        "cont_transformer = Pipeline(steps=[('imputer', SimpleImputer(strategy='median')),\n",
        "                                    ('scaler', StandardScaler())])\n",
        "ct_onehot_sd = ColumnTransformer([(\"cat\", OneHotEncoder(handle_unknown='ignore'),\n",
        "                                   categorical2),\n",
        "                                  (\"norm\", cont_transformer,  ~categorical2)])"
      ]
    },
    {
      "cell_type": "code",
      "execution_count": null,
      "metadata": {
        "id": "WvUpbwKVlKjv"
      },
      "outputs": [],
      "source": [
        "# apply fit_transform on x_train convert categrical by one hot encoder\n",
        "ct_onehot_sd.fit_transform(X_train)\n",
        "\n",
        "# get the name feature of categrical\n",
        "features = ct_onehot_sd.named_transformers_['cat'].get_feature_names()\n",
        "\n",
        "# convert categrical features to list\n",
        "cat_lst = features.tolist()\n",
        "\n",
        "# continuous list\n",
        "continuous_lst = ['bedrooms', 'bathrooms', 'sqft_living', 'sqft_lot', 'floors',\n",
        "                  'condition', 'sqft_above', 'sqft_basement', 'yr_built', 'yr_renovated']\n"
      ]
    },
    {
      "cell_type": "code",
      "execution_count": null,
      "metadata": {
        "id": "oC7adAz7lKjv"
      },
      "outputs": [],
      "source": [
        "# by best estimator from grid search take the best coefficients of model\n",
        "ridge_coefficients = grid_search_ridge.best_estimator_.named_steps['ridge'].coef_\n",
        "\n",
        "# feature names contain categrical and continuous list\n",
        "ridge_feature_names = continuous_lst + cat_lst\n",
        "\n",
        "# dictionaries are ordered collections, meaning they keep their elements in the same order in which they\n",
        "#were introduced. If you take advantage of this feature,\n",
        "#then you can use the Python zip() function to iterate through multiple dictionaries in a safe and coherent way\n",
        "ridge_feature_importance = dict(zip(ridge_feature_names, ridge_coefficients))\n"
      ]
    },
    {
      "cell_type": "code",
      "execution_count": null,
      "metadata": {
        "id": "KyNX3Y6klKjv",
        "outputId": "63c1592b-4456-4a83-f18b-4e93a6eaa20d"
      },
      "outputs": [
        {
          "data": {
            "text/plain": [
              "Text(0, 0.5, 'Coefficients')"
            ]
          },
          "execution_count": 388,
          "metadata": {},
          "output_type": "execute_result"
        },
        {
          "data": {
            "image/png": "[encoded data removed]",
            "text/plain": [
              "<Figure size 864x576 with 1 Axes>"
            ]
          },
          "metadata": {
            "needs_background": "light"
          },
          "output_type": "display_data"
        }
      ],
      "source": [
        "# stored the feature_importance sequence to sort list in top_scores ,the sort iterates over the dictionary keys,\n",
        "# using the number of word occurrences as a sort key,True will sort descending\n",
        "ridge_top_scores = sorted(ridge_feature_importance, key=ridge_feature_importance.get, reverse=True)\n",
        "\n",
        "# create empty list for x and y to plot\n",
        "ridge_x = []\n",
        "ridge_y = []\n",
        "# top 5 and the last 5 score\n",
        "for col in ridge_top_scores[:5] + ridge_top_scores[-5:]:\n",
        "    ridge_x.append(col) # Features\n",
        "    ridge_y.append(ridge_feature_importance[col]) # Coefficients\n",
        "\n",
        "# plot\n",
        "plt.figure(figsize=(12, 8))\n",
        "sns.barplot(x=ridge_x, y=ridge_y)\n",
        "plt.title('Top Important Features for Ridge Regression')\n",
        "#plt.xlabel('Features')\n",
        "plt.xticks(\n",
        "    rotation=45,\n",
        "    horizontalalignment='right',\n",
        "    fontweight='light',\n",
        "    fontsize='x-small',\n",
        ")\n",
        "plt.ylabel('Coefficients')\n"
      ]
    },
    {
      "cell_type": "code",
      "execution_count": null,
      "metadata": {
        "id": "Bpo1VAHZlKjw"
      },
      "outputs": [],
      "source": [
        "lasso_coefficients = grid_search_lasso.best_estimator_.named_steps['lasso'].coef_\n",
        "lasso_feature_names = continuous_lst + cat_lst\n",
        "lasso_feature_importance = dict(zip(lasso_feature_names, lasso_coefficients))"
      ]
    },
    {
      "cell_type": "code",
      "execution_count": null,
      "metadata": {
        "id": "BQqGdaGAlKjw",
        "outputId": "31228c2a-e1cf-4f2f-d029-e55124bfeefa"
      },
      "outputs": [
        {
          "data": {
            "text/plain": [
              "Text(0, 0.5, 'Coefficients')"
            ]
          },
          "execution_count": 390,
          "metadata": {},
          "output_type": "execute_result"
        },
        {
          "data": {
            "image/png": "[encoded data removed]",
            "text/plain": [
              "<Figure size 864x576 with 1 Axes>"
            ]
          },
          "metadata": {
            "needs_background": "light"
          },
          "output_type": "display_data"
        }
      ],
      "source": [
        "lasso_top_scores = sorted(lasso_feature_importance, key=lasso_feature_importance.get, reverse=True)\n",
        "\n",
        "lasso_x = []\n",
        "lasso_y = []\n",
        "for col in lasso_top_scores[:5] + lasso_top_scores[-5:]:\n",
        "    lasso_x.append(col)\n",
        "    lasso_y.append(lasso_feature_importance[col])\n",
        "\n",
        "plt.figure(figsize=(12, 8))\n",
        "sns.barplot(x=ridge_x, y=ridge_y)\n",
        "plt.title('Top Important Features for lasso Regression')\n",
        "#plt.xlabel('Features')\n",
        "plt.xticks(\n",
        "    rotation=45,\n",
        "    horizontalalignment='right',\n",
        "    fontweight='light',\n",
        "    fontsize='x-small',\n",
        ")\n",
        "plt.ylabel('Coefficients')\n"
      ]
    },
    {
      "cell_type": "code",
      "execution_count": null,
      "metadata": {
        "id": "chM9Cvy-lKjw"
      },
      "outputs": [],
      "source": [
        "elastic_coefficients = grid_search_elastic.best_estimator_.named_steps['elastic'].coef_\n",
        "elastic_feature_names = continuous_lst + cat_lst\n",
        "elastic_feature_importance = dict(zip(elastic_feature_names, elastic_coefficients))"
      ]
    },
    {
      "cell_type": "code",
      "execution_count": null,
      "metadata": {
        "id": "fAG0k6O2lKjx",
        "outputId": "4e620915-5d53-4aee-8ab4-e1f13a7921b1"
      },
      "outputs": [
        {
          "data": {
            "text/plain": [
              "Text(0, 0.5, 'Coefficients')"
            ]
          },
          "execution_count": 392,
          "metadata": {},
          "output_type": "execute_result"
        },
        {
          "data": {
            "image/png": "[encoded data removed]",
            "text/plain": [
              "<Figure size 864x576 with 1 Axes>"
            ]
          },
          "metadata": {
            "needs_background": "light"
          },
          "output_type": "display_data"
        }
      ],
      "source": [
        "elastic_top_scores = sorted(elastic_feature_importance, key=elastic_feature_importance.get, reverse=True)\n",
        "\n",
        "lasso_x = []\n",
        "lasso_y = []\n",
        "for col in elastic_top_scores[:5] + lasso_top_scores[-5:]:\n",
        "    lasso_x.append(col)\n",
        "    lasso_y.append(lasso_feature_importance[col])\n",
        "\n",
        "plt.figure(figsize=(12, 8))\n",
        "sns.barplot(x=ridge_x, y=ridge_y)\n",
        "plt.title('Top Important Features for elastic Regression')\n",
        "#plt.xlabel('Features')\n",
        "plt.xticks(\n",
        "    rotation=45,\n",
        "    horizontalalignment='right',\n",
        "    fontweight='light',\n",
        "    fontsize='x-small',\n",
        ")\n",
        "plt.ylabel('Coefficients')"
      ]
    },
    {
      "cell_type": "markdown",
      "metadata": {
        "id": "LYV9Usp1lKjx"
      },
      "source": [
        "All models have the same important features. the most crucial feature is x3_5425 4-th W"
      ]
    }
  ],
  "metadata": {
    "kernelspec": {
      "display_name": "Python 3",
      "language": "python",
      "name": "python3"
    },
    "language_info": {
      "codemirror_mode": {
        "name": "ipython",
        "version": 3
      },
      "file_extension": ".py",
      "mimetype": "text/x-python",
      "name": "python",
      "nbconvert_exporter": "python",
      "pygments_lexer": "ipython3",
      "version": "3.8.3"
    },
    "colab": {
      "provenance": []
    }
  },
  "nbformat": 4,
  "nbformat_minor": 0
}